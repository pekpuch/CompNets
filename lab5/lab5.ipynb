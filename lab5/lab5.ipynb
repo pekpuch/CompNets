{
 "cells": [
  {
   "cell_type": "markdown",
   "metadata": {},
   "source": [
    "1) Установить докер"
   ]
  },
  {
   "cell_type": "code",
   "execution_count": null,
   "metadata": {
    "vscode": {
     "languageId": "shellscript"
    }
   },
   "outputs": [],
   "source": [
    "sudo snap install docker"
   ]
  },
  {
   "cell_type": "markdown",
   "metadata": {},
   "source": [
    "2) Установить ngrok"
   ]
  },
  {
   "cell_type": "code",
   "execution_count": null,
   "metadata": {
    "vscode": {
     "languageId": "shellscript"
    }
   },
   "outputs": [],
   "source": [
    "curl -s https://ngrok-agent.s3.amazonaws.com/ngrok.asc .| sudo tee /etc/apt/trusted.gpg.d/ngrok.asc >/dev/null .&& echo \"deb https://ngrok-agent.s3.amazonaws.com buster main\" .| sudo tee /etc/apt/sources.list.d/ngrok.list .&& sudo apt update .&& sudo apt install ngrok\n",
    "\n",
    "ngrok config add-authtoken <token>"
   ]
  },
  {
   "cell_type": "markdown",
   "metadata": {},
   "source": [
    "3) Установить ngnix"
   ]
  },
  {
   "cell_type": "code",
   "execution_count": null,
   "metadata": {
    "vscode": {
     "languageId": "shellscript"
    }
   },
   "outputs": [],
   "source": [
    "sudo apt install nginx"
   ]
  },
  {
   "cell_type": "markdown",
   "metadata": {},
   "source": [
    "4) Пулы докера"
   ]
  },
  {
   "cell_type": "code",
   "execution_count": null,
   "metadata": {
    "vscode": {
     "languageId": "shellscript"
    }
   },
   "outputs": [],
   "source": [
    "sudo docker pull mysql:latest\n",
    "sudo docker pull wordpress:latest"
   ]
  },
  {
   "cell_type": "markdown",
   "metadata": {},
   "source": [
    "5) Создать файл конфигурации"
   ]
  },
  {
   "cell_type": "code",
   "execution_count": null,
   "metadata": {
    "vscode": {
     "languageId": "shellscript"
    }
   },
   "outputs": [],
   "source": [
    "touch docker-compose.yml\n",
    "nano docker-compose.yml"
   ]
  },
  {
   "cell_type": "code",
   "execution_count": null,
   "metadata": {
    "vscode": {
     "languageId": "sql"
    }
   },
   "outputs": [],
   "source": [
    "  GNU nano 6.2                                                                                              docker-compose.yml                                                                                                        version: '3.1'\n",
    "\n",
    "services:\n",
    "   db:\n",
    "     image: mysql:latest\n",
    "     volumes:\n",
    "       - db_data:/var/lib/mysql\n",
    "     restart: always\n",
    "     environment:\n",
    "       MYSQL_ROOT_PASSWORD: somewordpress\n",
    "       MYSQL_DATABASE: wordpress\n",
    "       MYSQL_USER: wordpress\n",
    "       MYSQL_PASSWORD: wordpress\n",
    "\n",
    "   wordpress:\n",
    "     depends_on:\n",
    "       - db\n",
    "     image: wordpress:latest\n",
    "     ports:\n",
    "       - \"8000:80\"\n",
    "     restart: always\n",
    "     environment:\n",
    "       WORDPRESS_DB_HOST: db:3306\n",
    "       WORDPRESS_DB_USER: wordpress\n",
    "       WORDPRESS_DB_PASSWORD: wordpress\n",
    "volumes:\n",
    "    db_data:"
   ]
  },
  {
   "cell_type": "markdown",
   "metadata": {},
   "source": [
    "6) Поднять wordpress"
   ]
  },
  {
   "cell_type": "code",
   "execution_count": null,
   "metadata": {
    "vscode": {
     "languageId": "shellscript"
    }
   },
   "outputs": [],
   "source": [
    "sudo docker-compose up -d"
   ]
  },
  {
   "cell_type": "markdown",
   "metadata": {},
   "source": [
    "7) Подниять на localhost"
   ]
  },
  {
   "cell_type": "code",
   "execution_count": null,
   "metadata": {
    "vscode": {
     "languageId": "shellscript"
    }
   },
   "outputs": [],
   "source": [
    "sudo nano /etc/nginx/sites-enabled/default"
   ]
  },
  {
   "cell_type": "code",
   "execution_count": null,
   "metadata": {
    "vscode": {
     "languageId": "xml"
    }
   },
   "outputs": [],
   "source": [
    "server {\n",
    "        server_name _;\n",
    "        location / {\n",
    "                proxy_pass http://localhost:8000;\n",
    "        }       \n",
    "}       "
   ]
  },
  {
   "cell_type": "markdown",
   "metadata": {},
   "source": [
    "8) Перезапустить nginx"
   ]
  },
  {
   "cell_type": "code",
   "execution_count": null,
   "metadata": {
    "vscode": {
     "languageId": "shellscript"
    }
   },
   "outputs": [],
   "source": [
    "sudo systemctl restart nginx"
   ]
  },
  {
   "cell_type": "markdown",
   "metadata": {},
   "source": [
    "9) Открыть доступ через ngrok"
   ]
  },
  {
   "cell_type": "code",
   "execution_count": null,
   "metadata": {
    "vscode": {
     "languageId": "shellscript"
    }
   },
   "outputs": [],
   "source": [
    "ngrok http 80"
   ]
  },
  {
   "cell_type": "markdown",
   "metadata": {},
   "source": [
    "При переходе по localhost откроется стартовая страница wordpress"
   ]
  }
 ],
 "metadata": {
  "language_info": {
   "name": "python"
  }
 },
 "nbformat": 4,
 "nbformat_minor": 2
}
